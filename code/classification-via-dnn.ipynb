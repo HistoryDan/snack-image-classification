{
 "cells": [
  {
   "cell_type": "markdown",
   "metadata": {
    "id": "b3UWH3fK5tNF"
   },
   "source": [
    "# 1. Import modules"
   ]
  },
  {
   "cell_type": "code",
   "execution_count": 1,
   "metadata": {
    "executionInfo": {
     "elapsed": 3295,
     "status": "ok",
     "timestamp": 1671344652443,
     "user": {
      "displayName": "Jun Bro",
      "userId": "07560668274037058289"
     },
     "user_tz": -540
    },
    "id": "T94WL6nQVMbd"
   },
   "outputs": [],
   "source": [
    "import os\n",
    "import glob\n",
    "import random\n",
    "import warnings\n",
    "import keras\n",
    "import numpy as np\n",
    "import pandas as pd\n",
    "import tensorflow as tf\n",
    "import matplotlib.pyplot as plt\n",
    "from PIL import Image\n",
    "from sklearn.model_selection import train_test_split\n",
    "from keras.models import Sequential\n",
    "from keras.layers import Dense, Dropout, Flatten, Conv2D, pooling\n",
    "from keras.utils import np_utils, to_categorical\n",
    "from keras.callbacks import EarlyStopping, ModelCheckpoint\n",
    "\n",
    "warnings.filterwarnings('ignore')"
   ]
  },
  {
   "cell_type": "code",
   "execution_count": 2,
   "metadata": {
    "colab": {
     "base_uri": "https://localhost:8080/"
    },
    "executionInfo": {
     "elapsed": 22546,
     "status": "ok",
     "timestamp": 1671344688116,
     "user": {
      "displayName": "Jun Bro",
      "userId": "07560668274037058289"
     },
     "user_tz": -540
    },
    "id": "xiGEdN4OVT5X",
    "outputId": "762b30be-965d-42ea-bb56-bbbb9a9c5e9d"
   },
   "outputs": [
    {
     "name": "stdout",
     "output_type": "stream",
     "text": [
      "Mounted at /content/drive\n"
     ]
    }
   ],
   "source": [
    "from google.colab import drive\n",
    "drive.mount('/content/drive')"
   ]
  },
  {
   "cell_type": "markdown",
   "metadata": {},
   "source": [
    "# 2. Modeling and training"
   ]
  },
  {
   "cell_type": "code",
   "execution_count": 3,
   "metadata": {
    "executionInfo": {
     "elapsed": 4,
     "status": "ok",
     "timestamp": 1671344711215,
     "user": {
      "displayName": "Jun Bro",
      "userId": "07560668274037058289"
     },
     "user_tz": -540
    },
    "id": "jLBJkNE0VXMp"
   },
   "outputs": [],
   "source": [
    "categories = [(\"꼬깔콘\", 0), (\"꼬북칩\", 1), (\"맛동산\", 2), (\"새우깡\", 3), (\"에이스\", 4), (\"오징어 땅콩\", 5), (\"카스타드\", 6), (\"포카칩\", 7), (\"프링글스\", 8), (\"홈런볼\", 9)]\n",
    "\n",
    "X_train, y_train = [], []\n",
    "X_test, y_test = [], []"
   ]
  },
  {
   "cell_type": "code",
   "execution_count": 4,
   "metadata": {
    "executionInfo": {
     "elapsed": 178084,
     "status": "ok",
     "timestamp": 1671344893061,
     "user": {
      "displayName": "Jun Bro",
      "userId": "07560668274037058289"
     },
     "user_tz": -540
    },
    "id": "NPm4NUXIVbNW"
   },
   "outputs": [],
   "source": [
    "for i, v in enumerate(categories) : \n",
    "    # one-hot encoding\n",
    "    label = [0 for _ in range(len(categories))]\n",
    "    label[i] = 1\n",
    "    \n",
    "    # path setting\n",
    "    image_dir = \"/content/drive/My Drive/data/train/\" + v[0] + \"/*.jpg\"\n",
    "    files = glob.glob(image_dir)\n",
    "    \n",
    "    # trainset setting\n",
    "    for file in files :\n",
    "        image = Image.open(file)\n",
    "        image = image.convert(\"RGB\")\n",
    "        image = image.resize((128, 128))\n",
    "        data = np.asarray(image)\n",
    "        \n",
    "        X_train.append(data)\n",
    "        y_train.append(label)"
   ]
  },
  {
   "cell_type": "code",
   "execution_count": 6,
   "metadata": {
    "colab": {
     "base_uri": "https://localhost:8080/"
    },
    "executionInfo": {
     "elapsed": 29974,
     "status": "ok",
     "timestamp": 1671345142307,
     "user": {
      "displayName": "Jun Bro",
      "userId": "07560668274037058289"
     },
     "user_tz": -540
    },
    "id": "hGhMANp0y8dR",
    "outputId": "9ef3da48-6691-4a5b-9ea3-7dbb2208bd83"
   },
   "outputs": [
    {
     "name": "stdout",
     "output_type": "stream",
     "text": [
      "cannot identify image file '/content/drive/My Drive/data/test/꼬북칩/꼬북칩_0127.jpg'\n"
     ]
    }
   ],
   "source": [
    "for i, v in enumerate(categories) : \n",
    "    # one-hot encoding\n",
    "    label = [0 for _ in range(len(categories))]\n",
    "    label[i] = 1\n",
    "    \n",
    "    # path setting\n",
    "    image_dir = \"/content/drive/My Drive/data/test/\" + v[0] + \"/*.jpg\"\n",
    "    files = glob.glob(image_dir)\n",
    "    \n",
    "    # testset setting\n",
    "    for file in files :\n",
    "        try:\n",
    "            image = Image.open(file)\n",
    "            image = image.convert(\"RGB\")\n",
    "            image = image.resize((128, 128))\n",
    "            data = np.asarray(image)\n",
    "\n",
    "            X_test.append(data)\n",
    "            y_test.append(label)\n",
    "        except Exception as e:\n",
    "            print(e)\n",
    "            pass"
   ]
  },
  {
   "cell_type": "code",
   "execution_count": 7,
   "metadata": {
    "executionInfo": {
     "elapsed": 469,
     "status": "ok",
     "timestamp": 1671345148196,
     "user": {
      "displayName": "Jun Bro",
      "userId": "07560668274037058289"
     },
     "user_tz": -540
    },
    "id": "qz8GzrUuVcqY"
   },
   "outputs": [],
   "source": [
    "X_train = np.array(X_train)\n",
    "y_train = np.array(y_train)\n",
    "X_test = np.array(X_test)\n",
    "y_test = np.array(y_test)"
   ]
  },
  {
   "cell_type": "code",
   "execution_count": 9,
   "metadata": {
    "executionInfo": {
     "elapsed": 3,
     "status": "ok",
     "timestamp": 1671345160058,
     "user": {
      "displayName": "Jun Bro",
      "userId": "07560668274037058289"
     },
     "user_tz": -540
    },
    "id": "3iSIo0x6VnEZ"
   },
   "outputs": [],
   "source": [
    "X_train = X_train.reshape(X_train.shape[0], X_train.shape[1] * X_train.shape[2] * X_train.shape[3])\n",
    "X_test = X_test.reshape(X_test.shape[0], X_test.shape[1] * X_test.shape[2] * X_test.shape[3])"
   ]
  },
  {
   "cell_type": "code",
   "execution_count": 10,
   "metadata": {
    "executionInfo": {
     "elapsed": 1007,
     "status": "ok",
     "timestamp": 1671345164415,
     "user": {
      "displayName": "Jun Bro",
      "userId": "07560668274037058289"
     },
     "user_tz": -540
    },
    "id": "XrPGm23wVx33"
   },
   "outputs": [],
   "source": [
    "# scaling\n",
    "X_train = X_train.astype('float32')\n",
    "X_test = X_test.astype('float32')\n",
    "X_train /= 255\n",
    "X_test /= 255"
   ]
  },
  {
   "cell_type": "code",
   "execution_count": 11,
   "metadata": {
    "colab": {
     "base_uri": "https://localhost:8080/"
    },
    "executionInfo": {
     "elapsed": 2560,
     "status": "ok",
     "timestamp": 1671345169902,
     "user": {
      "displayName": "Jun Bro",
      "userId": "07560668274037058289"
     },
     "user_tz": -540
    },
    "id": "RWIELfxuVy0n",
    "outputId": "41ef142f-8e1c-45be-b0d2-154e1015b03c"
   },
   "outputs": [
    {
     "name": "stdout",
     "output_type": "stream",
     "text": [
      "Model: \"sequential\"\n",
      "_________________________________________________________________\n",
      " Layer (type)                Output Shape              Param #   \n",
      "=================================================================\n",
      " dense (Dense)               (None, 128)               6291584   \n",
      "                                                                 \n",
      " dropout (Dropout)           (None, 128)               0         \n",
      "                                                                 \n",
      " dense_1 (Dense)             (None, 64)                8256      \n",
      "                                                                 \n",
      " dropout_1 (Dropout)         (None, 64)                0         \n",
      "                                                                 \n",
      " dense_2 (Dense)             (None, 10)                650       \n",
      "                                                                 \n",
      "=================================================================\n",
      "Total params: 6,300,490\n",
      "Trainable params: 6,300,490\n",
      "Non-trainable params: 0\n",
      "_________________________________________________________________\n",
      "None\n"
     ]
    }
   ],
   "source": [
    "# define model architecture\n",
    "model = Sequential()\n",
    "model.add(Dense(128, activation='relu', input_dim = X_train.shape[1]))\n",
    "model.add(Dropout(0.2))\n",
    "model.add(Dense(64, activation='relu'))\n",
    "model.add(Dropout(0.2))\n",
    "model.add(Dense(len(categories), activation='softmax'))\n",
    "print(model.summary())"
   ]
  },
  {
   "cell_type": "code",
   "execution_count": 12,
   "metadata": {
    "executionInfo": {
     "elapsed": 545,
     "status": "ok",
     "timestamp": 1671345176192,
     "user": {
      "displayName": "Jun Bro",
      "userId": "07560668274037058289"
     },
     "user_tz": -540
    },
    "id": "yuSH_9LaV4Gf"
   },
   "outputs": [],
   "source": [
    "# hyper parameter settings\n",
    "model.compile(loss='categorical_crossentropy', optimizer='adam', metrics=['accuracy'])\n",
    "\n",
    "# checkpoint \n",
    "model_path = \"/content/drive/My Drive/snacks_classification_ann.model\"\n",
    "checkpoint = ModelCheckpoint(filepath=model_path, monitor='val_loss', verbose=1, save_bset_only=True)"
   ]
  },
  {
   "cell_type": "code",
   "execution_count": 20,
   "metadata": {
    "colab": {
     "base_uri": "https://localhost:8080/"
    },
    "executionInfo": {
     "elapsed": 24286,
     "status": "ok",
     "timestamp": 1671345460979,
     "user": {
      "displayName": "Jun Bro",
      "userId": "07560668274037058289"
     },
     "user_tz": -540
    },
    "id": "VOuCurdp99bh",
    "outputId": "9e69c439-519f-4285-98ae-a950b89f09d1"
   },
   "outputs": [
    {
     "name": "stdout",
     "output_type": "stream",
     "text": [
      "Epoch 1/10\n",
      "279/288 [============================>.] - ETA: 0s - loss: 1.9935 - accuracy: 0.2576\n",
      "Epoch 1: saving model to /content/drive/My Drive/snacks_classification_ann.model\n",
      "288/288 [==============================] - 2s 8ms/step - loss: 1.9964 - accuracy: 0.2568 - val_loss: 10.2532 - val_accuracy: 0.0000e+00\n",
      "Epoch 2/10\n",
      "285/288 [============================>.] - ETA: 0s - loss: 1.9959 - accuracy: 0.2571\n",
      "Epoch 2: saving model to /content/drive/My Drive/snacks_classification_ann.model\n",
      "288/288 [==============================] - 2s 8ms/step - loss: 1.9967 - accuracy: 0.2568 - val_loss: 10.2161 - val_accuracy: 0.0000e+00\n",
      "Epoch 3/10\n",
      "285/288 [============================>.] - ETA: 0s - loss: 1.9958 - accuracy: 0.2578\n",
      "Epoch 3: saving model to /content/drive/My Drive/snacks_classification_ann.model\n",
      "288/288 [==============================] - 2s 8ms/step - loss: 1.9969 - accuracy: 0.2568 - val_loss: 10.2986 - val_accuracy: 0.0000e+00\n",
      "Epoch 4/10\n",
      "284/288 [============================>.] - ETA: 0s - loss: 1.9960 - accuracy: 0.2566\n",
      "Epoch 4: saving model to /content/drive/My Drive/snacks_classification_ann.model\n",
      "288/288 [==============================] - 2s 8ms/step - loss: 1.9963 - accuracy: 0.2568 - val_loss: 10.4778 - val_accuracy: 0.0000e+00\n",
      "Epoch 5/10\n",
      "287/288 [============================>.] - ETA: 0s - loss: 1.9968 - accuracy: 0.2568\n",
      "Epoch 5: saving model to /content/drive/My Drive/snacks_classification_ann.model\n",
      "288/288 [==============================] - 3s 9ms/step - loss: 1.9969 - accuracy: 0.2568 - val_loss: 10.3476 - val_accuracy: 0.0000e+00\n",
      "Epoch 6/10\n",
      "278/288 [===========================>..] - ETA: 0s - loss: 1.9965 - accuracy: 0.2569\n",
      "Epoch 6: saving model to /content/drive/My Drive/snacks_classification_ann.model\n",
      "288/288 [==============================] - 2s 8ms/step - loss: 1.9967 - accuracy: 0.2568 - val_loss: 10.2659 - val_accuracy: 0.0000e+00\n",
      "Epoch 7/10\n",
      "279/288 [============================>.] - ETA: 0s - loss: 1.9962 - accuracy: 0.2574\n",
      "Epoch 7: saving model to /content/drive/My Drive/snacks_classification_ann.model\n",
      "288/288 [==============================] - 2s 8ms/step - loss: 1.9967 - accuracy: 0.2568 - val_loss: 10.3956 - val_accuracy: 0.0000e+00\n",
      "Epoch 8/10\n",
      "287/288 [============================>.] - ETA: 0s - loss: 1.9968 - accuracy: 0.2569\n",
      "Epoch 8: saving model to /content/drive/My Drive/snacks_classification_ann.model\n",
      "288/288 [==============================] - 2s 8ms/step - loss: 1.9969 - accuracy: 0.2568 - val_loss: 10.4349 - val_accuracy: 0.0000e+00\n",
      "Epoch 9/10\n",
      "287/288 [============================>.] - ETA: 0s - loss: 1.9963 - accuracy: 0.2569\n",
      "Epoch 9: saving model to /content/drive/My Drive/snacks_classification_ann.model\n",
      "288/288 [==============================] - 2s 8ms/step - loss: 1.9964 - accuracy: 0.2568 - val_loss: 10.4971 - val_accuracy: 0.0000e+00\n",
      "Epoch 10/10\n",
      "279/288 [============================>.] - ETA: 0s - loss: 1.9967 - accuracy: 0.2574\n",
      "Epoch 10: saving model to /content/drive/My Drive/snacks_classification_ann.model\n",
      "288/288 [==============================] - 2s 8ms/step - loss: 1.9967 - accuracy: 0.2568 - val_loss: 10.5752 - val_accuracy: 0.0000e+00\n"
     ]
    }
   ],
   "source": [
    "# train\n",
    "history=model.fit(X_train, y_train, validation_split=0.1, batch_size=32, epochs=10, verbose=1, callbacks=[checkpoint])"
   ]
  },
  {
   "cell_type": "code",
   "execution_count": 21,
   "metadata": {
    "colab": {
     "base_uri": "https://localhost:8080/"
    },
    "executionInfo": {
     "elapsed": 1537,
     "status": "ok",
     "timestamp": 1671345467319,
     "user": {
      "displayName": "Jun Bro",
      "userId": "07560668274037058289"
     },
     "user_tz": -540
    },
    "id": "lgf5UzJQV7Y3",
    "outputId": "355d0cda-7bb1-445a-944c-20769e3edb03"
   },
   "outputs": [
    {
     "name": "stdout",
     "output_type": "stream",
     "text": [
      "['loss', 'accuracy']\n",
      "[2.8131251335144043, 0.18857938051223755]\n"
     ]
    }
   ],
   "source": [
    "# evaluation \n",
    "score = model.evaluate(X_test, y_test, verbose=0)\n",
    "print(model.metrics_names)\n",
    "print(score)"
   ]
  },
  {
   "cell_type": "markdown",
   "metadata": {},
   "source": [
    "# 3. Training history"
   ]
  },
  {
   "cell_type": "code",
   "execution_count": null,
   "metadata": {
    "id": "C6TKu7TzV9fk"
   },
   "outputs": [],
   "source": [
    "acc = history.history['accuracy']\n",
    "loss = history.history['loss']\n",
    "val_acc = history.history['val_accuracy']\n",
    "val_loss = history.history['val_loss']\n",
    "epoch_range = range(1, len(acc) + 1)"
   ]
  },
  {
   "cell_type": "code",
   "execution_count": null,
   "metadata": {
    "colab": {
     "base_uri": "https://localhost:8080/",
     "height": 331
    },
    "executionInfo": {
     "elapsed": 10,
     "status": "ok",
     "timestamp": 1670698037164,
     "user": {
      "displayName": "Jun Bro",
      "userId": "07560668274037058289"
     },
     "user_tz": -540
    },
    "id": "FoqqIZq3V_Zv",
    "outputId": "6952d8de-cbfb-42cd-b4f9-384b59525bb5"
   },
   "outputs": [
    {
     "data": {
      "text/plain": [
       "<Figure size 432x288 with 0 Axes>"
      ]
     },
     "execution_count": 31,
     "metadata": {},
     "output_type": "execute_result"
    },
    {
     "data": {
      "image/png": "[encoded data removed]",
      "text/plain": [
       "<Figure size 432x288 with 1 Axes>"
      ]
     },
     "metadata": {
      "needs_background": "light"
     },
     "output_type": "display_data"
    },
    {
     "data": {
      "text/plain": [
       "<Figure size 432x288 with 0 Axes>"
      ]
     },
     "metadata": {},
     "output_type": "display_data"
    }
   ],
   "source": [
    "# loss graph visualization\n",
    "plt.plot(epoch_range, loss, 'b', label='training loss')\n",
    "plt.plot(epoch_range, val_loss, 'r', label='validation loss')\n",
    "plt.title('Model loss')\n",
    "plt.xlabel('Epochs')\n",
    "plt.ylabel('Loss')\n",
    "plt.legend()\n",
    "plt.figure()"
   ]
  },
  {
   "cell_type": "code",
   "execution_count": null,
   "metadata": {
    "colab": {
     "base_uri": "https://localhost:8080/",
     "height": 331
    },
    "executionInfo": {
     "elapsed": 466,
     "status": "ok",
     "timestamp": 1670698037623,
     "user": {
      "displayName": "Jun Bro",
      "userId": "07560668274037058289"
     },
     "user_tz": -540
    },
    "id": "EQ5i26UmWC5Z",
    "outputId": "34f0ccb0-a49c-44c3-b903-f98f8a29ed72"
   },
   "outputs": [
    {
     "data": {
      "text/plain": [
       "<Figure size 432x288 with 0 Axes>"
      ]
     },
     "execution_count": 32,
     "metadata": {},
     "output_type": "execute_result"
    },
    {
     "data": {
      "image/png": "[encoded data removed]",
      "text/plain": [
       "<Figure size 432x288 with 1 Axes>"
      ]
     },
     "metadata": {
      "needs_background": "light"
     },
     "output_type": "display_data"
    },
    {
     "data": {
      "text/plain": [
       "<Figure size 432x288 with 0 Axes>"
      ]
     },
     "metadata": {},
     "output_type": "display_data"
    }
   ],
   "source": [
    "# accuracy graph visualization\n",
    "plt.plot(epoch_range, acc, 'b', label='training accuracy')\n",
    "plt.plot(epoch_range, val_acc, 'r', label='validation accuracy')\n",
    "plt.title('Model accuracy')\n",
    "plt.xlabel('Epochs')\n",
    "plt.ylabel('Accuracy')\n",
    "plt.legend()\n",
    "plt.figure()"
   ]
  }
 ],
 "metadata": {
  "accelerator": "GPU",
  "colab": {
   "authorship_tag": "ABX9TyPCOaiWC7oUidIObDv+NQpc",
   "machine_shape": "hm",
   "provenance": []
  },
  "gpuClass": "standard",
  "kernelspec": {
   "display_name": "Python 3 (ipykernel)",
   "language": "python",
   "name": "python3"
  },
  "language_info": {
   "codemirror_mode": {
    "name": "ipython",
    "version": 3
   },
   "file_extension": ".py",
   "mimetype": "text/x-python",
   "name": "python",
   "nbconvert_exporter": "python",
   "pygments_lexer": "ipython3",
   "version": "3.9.12"
  }
 },
 "nbformat": 4,
 "nbformat_minor": 1
}
