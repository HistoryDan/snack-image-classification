{
 "cells": [
  {
   "cell_type": "markdown",
   "metadata": {
    "id": "EyBZOP2pw0v2"
   },
   "source": [
    "# 1. Import modules"
   ]
  },
  {
   "cell_type": "code",
   "execution_count": 1,
   "metadata": {
    "executionInfo": {
     "elapsed": 3303,
     "status": "ok",
     "timestamp": 1671345735954,
     "user": {
      "displayName": "Jun Bro",
      "userId": "07560668274037058289"
     },
     "user_tz": -540
    },
    "id": "x0hElbPy8Zlh"
   },
   "outputs": [],
   "source": [
    "import os\n",
    "import glob\n",
    "import random\n",
    "import keras\n",
    "import warnings\n",
    "import numpy as np\n",
    "import pandas as pd\n",
    "import tensorflow as tf\n",
    "import matplotlib.pyplot as plt\n",
    "from PIL import Image\n",
    "from keras.models import Sequential\n",
    "from sklearn.model_selection import train_test_split\n",
    "from keras.layers import Dense, Dropout, Flatten, Conv2D, pooling\n",
    "from keras.utils import np_utils, to_categorical\n",
    "from keras.callbacks import EarlyStopping, ModelCheckpoint\n",
    "\n",
    "warnings.filterwarnings('ignore')"
   ]
  },
  {
   "cell_type": "code",
   "execution_count": 2,
   "metadata": {
    "colab": {
     "base_uri": "https://localhost:8080/"
    },
    "executionInfo": {
     "elapsed": 19845,
     "status": "ok",
     "timestamp": 1671345776091,
     "user": {
      "displayName": "Jun Bro",
      "userId": "07560668274037058289"
     },
     "user_tz": -540
    },
    "id": "fcTs4oev9WAO",
    "outputId": "c198f44c-48bc-48f2-c7f5-645fb13b9874"
   },
   "outputs": [
    {
     "name": "stdout",
     "output_type": "stream",
     "text": [
      "Mounted at /content/drive\n"
     ]
    }
   ],
   "source": [
    "from google.colab import drive\n",
    "drive.mount('/content/drive')"
   ]
  },
  {
   "cell_type": "markdown",
   "metadata": {},
   "source": [
    "# 2. CNN modeling and training"
   ]
  },
  {
   "cell_type": "code",
   "execution_count": 3,
   "metadata": {
    "executionInfo": {
     "elapsed": 1,
     "status": "ok",
     "timestamp": 1671345791194,
     "user": {
      "displayName": "Jun Bro",
      "userId": "07560668274037058289"
     },
     "user_tz": -540
    },
    "id": "dbwVx8LD8qke"
   },
   "outputs": [],
   "source": [
    "categories = [(\"꼬깔콘\", 0), (\"꼬북칩\", 1), (\"맛동산\", 2), (\"새우깡\", 3), (\"에이스\", 4), (\"오징어 땅콩\", 5), (\"카스타드\", 6), (\"포카칩\", 7), (\"프링글스\", 8), (\"홈런볼\", 9)]\n",
    "\n",
    "X_train, y_train = [], []\n",
    "X_test, y_test = [], []"
   ]
  },
  {
   "cell_type": "code",
   "execution_count": 5,
   "metadata": {
    "colab": {
     "base_uri": "https://localhost:8080/"
    },
    "executionInfo": {
     "elapsed": 167891,
     "status": "ok",
     "timestamp": 1671346111669,
     "user": {
      "displayName": "Jun Bro",
      "userId": "07560668274037058289"
     },
     "user_tz": -540
    },
    "id": "apUiI8Pg9Pdx",
    "outputId": "f5b18380-eea3-4a6d-c680-ee281bfd51ef"
   },
   "outputs": [
    {
     "name": "stdout",
     "output_type": "stream",
     "text": [
      "cannot identify image file '/content/drive/My Drive/data/train/꼬깔콘/꼬깔콘_3124.jpg'\n",
      "cannot identify image file '/content/drive/My Drive/data/train/꼬깔콘/꼬깔콘_3357.jpg'\n",
      "cannot identify image file '/content/drive/My Drive/data/train/꼬북칩/꼬북칩_3485.jpg'\n",
      "cannot identify image file '/content/drive/My Drive/data/train/에이스/에이스_0949.jpg'\n",
      "cannot identify image file '/content/drive/My Drive/data/train/에이스/에이스_0965.jpg'\n"
     ]
    }
   ],
   "source": [
    "for i, v in enumerate(categories) : \n",
    "    # one-hot encoding\n",
    "    label = [0 for _ in range(len(categories))]\n",
    "    label[i] = 1\n",
    "    \n",
    "    # path setting\n",
    "    image_dir = \"/content/drive/My Drive/data/train/\" + v[0] + \"/*.jpg\"\n",
    "    files = glob.glob(image_dir)\n",
    "    \n",
    "    # trainset setting\n",
    "    for file in files :\n",
    "        try:\n",
    "            image = Image.open(file)\n",
    "            image = image.convert(\"RGB\")\n",
    "            image = image.resize((128, 128))\n",
    "            data = np.asarray(image)\n",
    "\n",
    "            X_train.append(data)\n",
    "            y_train.append(label)\n",
    "        except Exception as e:\n",
    "            print(e)\n",
    "            pass"
   ]
  },
  {
   "cell_type": "code",
   "execution_count": 6,
   "metadata": {
    "colab": {
     "base_uri": "https://localhost:8080/"
    },
    "executionInfo": {
     "elapsed": 30738,
     "status": "ok",
     "timestamp": 1671346180840,
     "user": {
      "displayName": "Jun Bro",
      "userId": "07560668274037058289"
     },
     "user_tz": -540
    },
    "id": "Y3iyDeQjvnD9",
    "outputId": "cdb3484c-d6e4-45ad-db50-784a12f023b4"
   },
   "outputs": [
    {
     "name": "stdout",
     "output_type": "stream",
     "text": [
      "cannot identify image file '/content/drive/My Drive/data/test/꼬북칩/꼬북칩_0127.jpg'\n"
     ]
    }
   ],
   "source": [
    "for i, v in enumerate(categories) : \n",
    "    # one-hot encoding\n",
    "    label = [0 for _ in range(len(categories))]\n",
    "    label[i] = 1\n",
    "    \n",
    "    # path setting\n",
    "    image_dir = \"/content/drive/My Drive/data/test/\" + v[0] + \"/*.jpg\"\n",
    "    files = glob.glob(image_dir)\n",
    "    \n",
    "    # testset setting\n",
    "    for file in files :\n",
    "        try:\n",
    "            image = Image.open(file)\n",
    "            image = image.convert(\"RGB\")\n",
    "            image = image.resize((128, 128))\n",
    "            data = np.asarray(image)\n",
    "\n",
    "            X_test.append(data)\n",
    "            y_test.append(label)\n",
    "        except Exception as e:\n",
    "            print(e)\n",
    "            pass"
   ]
  },
  {
   "cell_type": "code",
   "execution_count": 7,
   "metadata": {
    "executionInfo": {
     "elapsed": 372,
     "status": "ok",
     "timestamp": 1671346192064,
     "user": {
      "displayName": "Jun Bro",
      "userId": "07560668274037058289"
     },
     "user_tz": -540
    },
    "id": "KRIuxquY9s-T"
   },
   "outputs": [],
   "source": [
    "X_train = np.array(X_train)\n",
    "y_train = np.array(y_train)\n",
    "X_test = np.array(X_test)\n",
    "y_test = np.array(y_test)"
   ]
  },
  {
   "cell_type": "code",
   "execution_count": 9,
   "metadata": {
    "executionInfo": {
     "elapsed": 924,
     "status": "ok",
     "timestamp": 1671346197436,
     "user": {
      "displayName": "Jun Bro",
      "userId": "07560668274037058289"
     },
     "user_tz": -540
    },
    "id": "PH0rGKi_9uKD"
   },
   "outputs": [],
   "source": [
    "# scaling\n",
    "X_train = X_train.astype('float32')\n",
    "X_test = X_test.astype('float32')\n",
    "X_train /= 255\n",
    "X_test /= 255"
   ]
  },
  {
   "cell_type": "code",
   "execution_count": 10,
   "metadata": {
    "colab": {
     "base_uri": "https://localhost:8080/"
    },
    "executionInfo": {
     "elapsed": 3016,
     "status": "ok",
     "timestamp": 1671346202156,
     "user": {
      "displayName": "Jun Bro",
      "userId": "07560668274037058289"
     },
     "user_tz": -540
    },
    "id": "bM0whA9x-f5m",
    "outputId": "0e8c5ae1-fa02-4ecb-ed79-f3a74d78f14a"
   },
   "outputs": [
    {
     "name": "stdout",
     "output_type": "stream",
     "text": [
      "Model: \"sequential\"\n",
      "_________________________________________________________________\n",
      " Layer (type)                Output Shape              Param #   \n",
      "=================================================================\n",
      " conv2d (Conv2D)             (None, 126, 126, 128)     3584      \n",
      "                                                                 \n",
      " max_pooling2d (MaxPooling2D  (None, 63, 63, 128)      0         \n",
      " )                                                               \n",
      "                                                                 \n",
      " dropout (Dropout)           (None, 63, 63, 128)       0         \n",
      "                                                                 \n",
      " conv2d_1 (Conv2D)           (None, 61, 61, 64)        73792     \n",
      "                                                                 \n",
      " max_pooling2d_1 (MaxPooling  (None, 30, 30, 64)       0         \n",
      " 2D)                                                             \n",
      "                                                                 \n",
      " dropout_1 (Dropout)         (None, 30, 30, 64)        0         \n",
      "                                                                 \n",
      " flatten (Flatten)           (None, 57600)             0         \n",
      "                                                                 \n",
      " dense (Dense)               (None, 256)               14745856  \n",
      "                                                                 \n",
      " dropout_2 (Dropout)         (None, 256)               0         \n",
      "                                                                 \n",
      " dense_1 (Dense)             (None, 10)                2570      \n",
      "                                                                 \n",
      "=================================================================\n",
      "Total params: 14,825,802\n",
      "Trainable params: 14,825,802\n",
      "Non-trainable params: 0\n",
      "_________________________________________________________________\n",
      "None\n"
     ]
    }
   ],
   "source": [
    "# define model architecture\n",
    "model = Sequential()\n",
    "model.add(Conv2D(128, (3, 3), activation='relu', input_shape=(128, 128, 3)))\n",
    "model.add(pooling.MaxPooling2D(pool_size=(2, 2)))\n",
    "model.add(Dropout(0.25))\n",
    "\n",
    "model.add(Conv2D(64, (3, 3), activation='relu'))\n",
    "model.add(pooling.MaxPooling2D(pool_size=(2, 2)))\n",
    "model.add(Dropout(0.25))\n",
    "\n",
    "model.add(Flatten())\n",
    "model.add(Dense(256, activation='relu'))\n",
    "model.add(Dropout(0.5))\n",
    "model.add(Dense(len(categories), activation='softmax'))\n",
    "print(model.summary())"
   ]
  },
  {
   "cell_type": "code",
   "execution_count": 11,
   "metadata": {
    "executionInfo": {
     "elapsed": 3,
     "status": "ok",
     "timestamp": 1671346205109,
     "user": {
      "displayName": "Jun Bro",
      "userId": "07560668274037058289"
     },
     "user_tz": -540
    },
    "id": "52JeOmRI-43e"
   },
   "outputs": [],
   "source": [
    "# hyper parameter settings\n",
    "model.compile(loss='categorical_crossentropy', optimizer='adam', metrics=['accuracy'])\n",
    "\n",
    "# checkpoint \n",
    "model_path = \"/content/drive/My Drive/snack_cnn.model\"\n",
    "checkpoint = ModelCheckpoint(filepath=model_path, monitor='val_loss', verbose=1, save_best_only=True)"
   ]
  },
  {
   "cell_type": "code",
   "execution_count": 26,
   "metadata": {
    "colab": {
     "base_uri": "https://localhost:8080/"
    },
    "executionInfo": {
     "elapsed": 61730,
     "status": "ok",
     "timestamp": 1671346659667,
     "user": {
      "displayName": "Jun Bro",
      "userId": "07560668274037058289"
     },
     "user_tz": -540
    },
    "id": "TDVxu1mE_AIZ",
    "outputId": "e554b2ed-4db3-42fd-dc4b-63e40074af90"
   },
   "outputs": [
    {
     "name": "stdout",
     "output_type": "stream",
     "text": [
      "Epoch 1/10\n",
      "521/521 [==============================] - ETA: 0s - loss: 0.0297 - accuracy: 0.9908\n",
      "Epoch 1: val_loss did not improve from 5.76974\n",
      "521/521 [==============================] - 6s 12ms/step - loss: 0.0297 - accuracy: 0.9908 - val_loss: 16.3340 - val_accuracy: 0.1928\n",
      "Epoch 2/10\n",
      "520/521 [============================>.] - ETA: 0s - loss: 0.0207 - accuracy: 0.9941\n",
      "Epoch 2: val_loss did not improve from 5.76974\n",
      "521/521 [==============================] - 6s 12ms/step - loss: 0.0207 - accuracy: 0.9941 - val_loss: 18.4816 - val_accuracy: 0.1733\n",
      "Epoch 3/10\n",
      "521/521 [==============================] - ETA: 0s - loss: 0.0235 - accuracy: 0.9936\n",
      "Epoch 3: val_loss did not improve from 5.76974\n",
      "521/521 [==============================] - 6s 12ms/step - loss: 0.0235 - accuracy: 0.9936 - val_loss: 23.3605 - val_accuracy: 0.1112\n",
      "Epoch 4/10\n",
      "519/521 [============================>.] - ETA: 0s - loss: 0.0199 - accuracy: 0.9940\n",
      "Epoch 4: val_loss did not improve from 5.76974\n",
      "521/521 [==============================] - 6s 12ms/step - loss: 0.0198 - accuracy: 0.9941 - val_loss: 22.1334 - val_accuracy: 0.1004\n",
      "Epoch 5/10\n",
      "521/521 [==============================] - ETA: 0s - loss: 0.0218 - accuracy: 0.9941\n",
      "Epoch 5: val_loss did not improve from 5.76974\n",
      "521/521 [==============================] - 6s 12ms/step - loss: 0.0218 - accuracy: 0.9941 - val_loss: 23.2115 - val_accuracy: 0.1312\n",
      "Epoch 6/10\n",
      "520/521 [============================>.] - ETA: 0s - loss: 0.0303 - accuracy: 0.9927\n",
      "Epoch 6: val_loss did not improve from 5.76974\n",
      "521/521 [==============================] - 6s 12ms/step - loss: 0.0302 - accuracy: 0.9927 - val_loss: 23.8621 - val_accuracy: 0.1177\n",
      "Epoch 7/10\n",
      "520/521 [============================>.] - ETA: 0s - loss: 0.0211 - accuracy: 0.9942\n",
      "Epoch 7: val_loss did not improve from 5.76974\n",
      "521/521 [==============================] - 6s 12ms/step - loss: 0.0211 - accuracy: 0.9942 - val_loss: 20.5946 - val_accuracy: 0.1156\n",
      "Epoch 8/10\n",
      "521/521 [==============================] - ETA: 0s - loss: 0.0239 - accuracy: 0.9933\n",
      "Epoch 8: val_loss did not improve from 5.76974\n",
      "521/521 [==============================] - 6s 12ms/step - loss: 0.0239 - accuracy: 0.9933 - val_loss: 23.4520 - val_accuracy: 0.1096\n",
      "Epoch 9/10\n",
      "521/521 [==============================] - ETA: 0s - loss: 0.0205 - accuracy: 0.9945\n",
      "Epoch 9: val_loss did not improve from 5.76974\n",
      "521/521 [==============================] - 6s 12ms/step - loss: 0.0205 - accuracy: 0.9945 - val_loss: 25.2346 - val_accuracy: 0.0956\n",
      "Epoch 10/10\n",
      "520/521 [============================>.] - ETA: 0s - loss: 0.0174 - accuracy: 0.9950\n",
      "Epoch 10: val_loss did not improve from 5.76974\n",
      "521/521 [==============================] - 6s 12ms/step - loss: 0.0175 - accuracy: 0.9949 - val_loss: 24.5728 - val_accuracy: 0.0983\n"
     ]
    }
   ],
   "source": [
    "# train\n",
    "history=model.fit(X_train, y_train, validation_split=0.1, batch_size=32, epochs=10, verbose=1, callbacks=[checkpoint])"
   ]
  },
  {
   "cell_type": "code",
   "execution_count": 25,
   "metadata": {
    "colab": {
     "base_uri": "https://localhost:8080/"
    },
    "executionInfo": {
     "elapsed": 1232,
     "status": "ok",
     "timestamp": 1671346589209,
     "user": {
      "displayName": "Jun Bro",
      "userId": "07560668274037058289"
     },
     "user_tz": -540
    },
    "id": "xmsTYa3H_F9P",
    "outputId": "852cc6c1-4862-466f-c28c-3a880d731488"
   },
   "outputs": [
    {
     "name": "stdout",
     "output_type": "stream",
     "text": [
      "['loss', 'accuracy']\n",
      "[1.9488551616668701, 0.9181784391403198]\n"
     ]
    }
   ],
   "source": [
    "# evaluation\n",
    "score = model.evaluate(X_test, y_test, verbose=0)\n",
    "print(model.metrics_names)\n",
    "print(score)"
   ]
  },
  {
   "cell_type": "markdown",
   "metadata": {},
   "source": [
    "# 3. CNN training history"
   ]
  },
  {
   "cell_type": "code",
   "execution_count": null,
   "metadata": {
    "id": "98l4s4cj_mtS"
   },
   "outputs": [],
   "source": [
    "acc = history.history['accuracy']\n",
    "loss = history.history['loss']\n",
    "val_acc = history.history['val_accuracy']\n",
    "val_loss = history.history['val_loss']\n",
    "epoch_range = range(1, len(acc) + 1)"
   ]
  },
  {
   "cell_type": "code",
   "execution_count": null,
   "metadata": {
    "colab": {
     "base_uri": "https://localhost:8080/",
     "height": 331
    },
    "executionInfo": {
     "elapsed": 304,
     "status": "ok",
     "timestamp": 1670753622945,
     "user": {
      "displayName": "Jun Bro",
      "userId": "07560668274037058289"
     },
     "user_tz": -540
    },
    "id": "T5B6PdcDAFnQ",
    "outputId": "e5cd3b30-e76f-42dd-e40f-893d6da6618e"
   },
   "outputs": [
    {
     "data": {
      "text/plain": [
       "<Figure size 432x288 with 0 Axes>"
      ]
     },
     "execution_count": 13,
     "metadata": {},
     "output_type": "execute_result"
    },
    {
     "data": {
      "image/png": "[encoded data removed]",
      "text/plain": [
       "<Figure size 432x288 with 1 Axes>"
      ]
     },
     "metadata": {
      "needs_background": "light"
     },
     "output_type": "display_data"
    },
    {
     "data": {
      "text/plain": [
       "<Figure size 432x288 with 0 Axes>"
      ]
     },
     "metadata": {},
     "output_type": "display_data"
    }
   ],
   "source": [
    "# loss graph visualization\n",
    "plt.plot(epoch_range, loss, 'b', label='training loss')\n",
    "plt.plot(epoch_range, val_loss, 'r', label='validation loss')\n",
    "plt.title('Model loss')\n",
    "plt.xlabel('Epochs')\n",
    "plt.ylabel('Loss')\n",
    "plt.legend()\n",
    "plt.figure()"
   ]
  },
  {
   "cell_type": "code",
   "execution_count": null,
   "metadata": {
    "colab": {
     "base_uri": "https://localhost:8080/",
     "height": 331
    },
    "executionInfo": {
     "elapsed": 306,
     "status": "ok",
     "timestamp": 1670753623249,
     "user": {
      "displayName": "Jun Bro",
      "userId": "07560668274037058289"
     },
     "user_tz": -540
    },
    "id": "rHm_beoJAKls",
    "outputId": "3efabe63-5263-45bc-ded5-8b1fcd0b3c70"
   },
   "outputs": [
    {
     "data": {
      "text/plain": [
       "<Figure size 432x288 with 0 Axes>"
      ]
     },
     "execution_count": 14,
     "metadata": {},
     "output_type": "execute_result"
    },
    {
     "data": {
      "image/png": "[encoded data removed]",
      "text/plain": [
       "<Figure size 432x288 with 1 Axes>"
      ]
     },
     "metadata": {
      "needs_background": "light"
     },
     "output_type": "display_data"
    },
    {
     "data": {
      "text/plain": [
       "<Figure size 432x288 with 0 Axes>"
      ]
     },
     "metadata": {},
     "output_type": "display_data"
    }
   ],
   "source": [
    "# accuracy graph visualization\n",
    "plt.plot(epoch_range, acc, 'b', label='training accuracy')\n",
    "plt.plot(epoch_range, val_acc, 'r', label='validation accuracy')\n",
    "plt.title('Model accuracy')\n",
    "plt.xlabel('Epochs')\n",
    "plt.ylabel('Accuracy')\n",
    "plt.legend()\n",
    "plt.figure()"
   ]
  },
  {
   "cell_type": "markdown",
   "metadata": {
    "id": "CRYShMxNw8N_"
   },
   "source": [
    "# 4. Resnet modeling and training"
   ]
  },
  {
   "cell_type": "code",
   "execution_count": 27,
   "metadata": {
    "executionInfo": {
     "elapsed": 433,
     "status": "ok",
     "timestamp": 1671346670345,
     "user": {
      "displayName": "Jun Bro",
      "userId": "07560668274037058289"
     },
     "user_tz": -540
    },
    "id": "hUyIMTKnQcY2"
   },
   "outputs": [],
   "source": [
    "# Function defining a convolutional block for a resnet\n",
    "def convolutional_block(X, filters, kernel_size):\n",
    "    \n",
    "    # Save the input tensor in 'X_shortcut' for later use\n",
    "    X_shortcut = X\n",
    "    \n",
    "    # First convolutional layer: Convolution, Batch Normalization, and ReLU activation\n",
    "    X = tf.keras.layers.Conv2D(filters, kernel_size, padding='SAME')(X)\n",
    "    X = tf.keras.layers.BatchNormalization()(X)\n",
    "    X = tf.keras.layers.Activation('relu')(X)\n",
    "    \n",
    "    # Second convolutional layer: Convolution, Batch Normalization, and ReLU activation\n",
    "    X = tf.keras.layers.Conv2D(filters, kernel_size, padding='SAME')(X)\n",
    "    X = tf.keras.layers.BatchNormalization()(X)\n",
    "    X = tf.keras.layers.Activation('relu')(X)\n",
    "    \n",
    "    # Third convolutional layer: Convolution and Batch Normalization\n",
    "    X = tf.keras.layers.Conv2D(filters, kernel_size, padding='SAME')(X)\n",
    "    X = tf.keras.layers.BatchNormalization()(X)\n",
    "    \n",
    "    # Implement the skip connection\n",
    "    X_shortcut = tf.keras.layers.Conv2D(filters, kernel_size, padding='SAME')(X_shortcut)\n",
    "    X_shortcut = tf.keras.layers.BatchNormalization()(X_shortcut)\n",
    "    \n",
    "    # Add\n",
    "    X = tf.keras.layers.Add()([X, X_shortcut])\n",
    "    X = tf.keras.layers.Activation('relu')(X)\n",
    "    \n",
    "    return X"
   ]
  },
  {
   "cell_type": "code",
   "execution_count": 28,
   "metadata": {
    "executionInfo": {
     "elapsed": 4,
     "status": "ok",
     "timestamp": 1671346673864,
     "user": {
      "displayName": "Jun Bro",
      "userId": "07560668274037058289"
     },
     "user_tz": -540
    },
    "id": "Umm6K3HaRRg-"
   },
   "outputs": [],
   "source": [
    "# Function defining a identity block for a resnet\n",
    "def identity_block(X, filters, kernel_size):\n",
    "    \n",
    "    # Save the input tensor in 'X_shortcut' for later use\n",
    "    X_shortcut = X\n",
    "    \n",
    "    # First layer: 2D convolution, fBatch Normalization and ReLU activation\n",
    "    X = tf.keras.layers.Conv2D(filters, kernel_size, padding='SAME')(X)\n",
    "    X = tf.keras.layers.BatchNormalization()(X)\n",
    "    X = tf.keras.layers.Activation('relu')(X)\n",
    "    \n",
    "    # Second layer: 2D convolution, fBatch Normalization and ReLU activation\n",
    "    X = tf.keras.layers.Conv2D(filters, kernel_size, padding='SAME')(X)\n",
    "    X = tf.keras.layers.BatchNormalization()(X)\n",
    "    X = tf.keras.layers.Activation('relu')(X)\n",
    "    \n",
    "    # Third layer: 2D convolution, fBatch Normalization\n",
    "    X = tf.keras.layers.Conv2D(filters, kernel_size, padding='SAME')(X)\n",
    "    X = tf.keras.layers.BatchNormalization()(X)\n",
    "    \n",
    "    # Add\n",
    "    X = tf.keras.layers.Add()([X, X_shortcut])\n",
    "    X = tf.keras.layers.Activation('relu')(X)\n",
    "    \n",
    "    return X"
   ]
  },
  {
   "cell_type": "code",
   "execution_count": 29,
   "metadata": {
    "executionInfo": {
     "elapsed": 1,
     "status": "ok",
     "timestamp": 1671346676706,
     "user": {
      "displayName": "Jun Bro",
      "userId": "07560668274037058289"
     },
     "user_tz": -540
    },
    "id": "BWllyQ6aRKpC"
   },
   "outputs": [],
   "source": [
    "# Function defining a resnet\n",
    "def ResNet50CL(input_shape = (128, 128, 3), classes = 10):\n",
    "    X_input = tf.keras.layers.Input(input_shape)\n",
    "    X = X_input\n",
    "    \n",
    "    X = convolutional_block(X, 128, (3,3)) #conv\n",
    "    X = identity_block(X, 128, (3,3))\n",
    "    X = tf.keras.layers.MaxPooling2D(2, 2, padding='SAME')(X)\n",
    "    \n",
    "    X = convolutional_block(X, 256, (3,3)) #64->128, use conv block\n",
    "    X = identity_block(X, 256, (3,3))\n",
    "    X = tf.keras.layers.MaxPooling2D(2, 2, padding='SAME')(X)\n",
    "    \n",
    "    X = convolutional_block(X, 512, (3,3)) #128->256, use conv block\n",
    "    X = identity_block(X, 512, (3,3))\n",
    "    X = tf.keras.layers.MaxPooling2D(2, 2, padding='SAME')(X)\n",
    "    \n",
    "    X = convolutional_block(X, 1024, (3,3)) #256->512, use conv block\n",
    "    X = identity_block(X, 1024, (3,3))\n",
    "    X = tf.keras.layers.MaxPooling2D(2, 2, padding='SAME')(X)\n",
    "    \n",
    "    X = tf.keras.layers.GlobalAveragePooling2D()(X)\n",
    "    X = tf.keras.layers.Dense(10, activation = 'softmax')(X) # ouput layer (10 class)\n",
    "\n",
    "    model = tf.keras.models.Model(inputs = X_input, outputs = X, name = \"ResNet50CL\")\n",
    "    \n",
    "    return model"
   ]
  },
  {
   "cell_type": "code",
   "execution_count": 30,
   "metadata": {
    "executionInfo": {
     "elapsed": 1225,
     "status": "ok",
     "timestamp": 1671346680555,
     "user": {
      "displayName": "Jun Bro",
      "userId": "07560668274037058289"
     },
     "user_tz": -540
    },
    "id": "5OKy3dHbRf_T"
   },
   "outputs": [],
   "source": [
    "# instantiate model and compile\n",
    "model = ResNet50CL()\n",
    "model.compile(optimizer='adam', loss = 'categorical_crossentropy', metrics=['accuracy'])"
   ]
  },
  {
   "cell_type": "code",
   "execution_count": 31,
   "metadata": {
    "colab": {
     "base_uri": "https://localhost:8080/"
    },
    "executionInfo": {
     "elapsed": 627,
     "status": "ok",
     "timestamp": 1671346682688,
     "user": {
      "displayName": "Jun Bro",
      "userId": "07560668274037058289"
     },
     "user_tz": -540
    },
    "id": "rPWntyIZRjtj",
    "outputId": "107d4af9-9968-4d53-fac1-31ccaa92f523"
   },
   "outputs": [
    {
     "name": "stdout",
     "output_type": "stream",
     "text": [
      "Model: \"ResNet50CL\"\n",
      "__________________________________________________________________________________________________\n",
      " Layer (type)                   Output Shape         Param #     Connected to                     \n",
      "==================================================================================================\n",
      " input_1 (InputLayer)           [(None, 128, 128, 3  0           []                               \n",
      "                                )]                                                                \n",
      "                                                                                                  \n",
      " conv2d_2 (Conv2D)              (None, 128, 128, 12  3584        ['input_1[0][0]']                \n",
      "                                8)                                                                \n",
      "                                                                                                  \n",
      " batch_normalization (BatchNorm  (None, 128, 128, 12  512        ['conv2d_2[0][0]']               \n",
      " alization)                     8)                                                                \n",
      "                                                                                                  \n",
      " activation (Activation)        (None, 128, 128, 12  0           ['batch_normalization[0][0]']    \n",
      "                                8)                                                                \n",
      "                                                                                                  \n",
      " conv2d_3 (Conv2D)              (None, 128, 128, 12  147584      ['activation[0][0]']             \n",
      "                                8)                                                                \n",
      "                                                                                                  \n",
      " batch_normalization_1 (BatchNo  (None, 128, 128, 12  512        ['conv2d_3[0][0]']               \n",
      " rmalization)                   8)                                                                \n",
      "                                                                                                  \n",
      " activation_1 (Activation)      (None, 128, 128, 12  0           ['batch_normalization_1[0][0]']  \n",
      "                                8)                                                                \n",
      "                                                                                                  \n",
      " conv2d_4 (Conv2D)              (None, 128, 128, 12  147584      ['activation_1[0][0]']           \n",
      "                                8)                                                                \n",
      "                                                                                                  \n",
      " conv2d_5 (Conv2D)              (None, 128, 128, 12  3584        ['input_1[0][0]']                \n",
      "                                8)                                                                \n",
      "                                                                                                  \n",
      " batch_normalization_2 (BatchNo  (None, 128, 128, 12  512        ['conv2d_4[0][0]']               \n",
      " rmalization)                   8)                                                                \n",
      "                                                                                                  \n",
      " batch_normalization_3 (BatchNo  (None, 128, 128, 12  512        ['conv2d_5[0][0]']               \n",
      " rmalization)                   8)                                                                \n",
      "                                                                                                  \n",
      " add (Add)                      (None, 128, 128, 12  0           ['batch_normalization_2[0][0]',  \n",
      "                                8)                                'batch_normalization_3[0][0]']  \n",
      "                                                                                                  \n",
      " activation_2 (Activation)      (None, 128, 128, 12  0           ['add[0][0]']                    \n",
      "                                8)                                                                \n",
      "                                                                                                  \n",
      " conv2d_6 (Conv2D)              (None, 128, 128, 12  147584      ['activation_2[0][0]']           \n",
      "                                8)                                                                \n",
      "                                                                                                  \n",
      " batch_normalization_4 (BatchNo  (None, 128, 128, 12  512        ['conv2d_6[0][0]']               \n",
      " rmalization)                   8)                                                                \n",
      "                                                                                                  \n",
      " activation_3 (Activation)      (None, 128, 128, 12  0           ['batch_normalization_4[0][0]']  \n",
      "                                8)                                                                \n",
      "                                                                                                  \n",
      " conv2d_7 (Conv2D)              (None, 128, 128, 12  147584      ['activation_3[0][0]']           \n",
      "                                8)                                                                \n",
      "                                                                                                  \n",
      " batch_normalization_5 (BatchNo  (None, 128, 128, 12  512        ['conv2d_7[0][0]']               \n",
      " rmalization)                   8)                                                                \n",
      "                                                                                                  \n",
      " activation_4 (Activation)      (None, 128, 128, 12  0           ['batch_normalization_5[0][0]']  \n",
      "                                8)                                                                \n",
      "                                                                                                  \n",
      " conv2d_8 (Conv2D)              (None, 128, 128, 12  147584      ['activation_4[0][0]']           \n",
      "                                8)                                                                \n",
      "                                                                                                  \n",
      " batch_normalization_6 (BatchNo  (None, 128, 128, 12  512        ['conv2d_8[0][0]']               \n",
      " rmalization)                   8)                                                                \n",
      "                                                                                                  \n",
      " add_1 (Add)                    (None, 128, 128, 12  0           ['batch_normalization_6[0][0]',  \n",
      "                                8)                                'activation_2[0][0]']           \n",
      "                                                                                                  \n",
      " activation_5 (Activation)      (None, 128, 128, 12  0           ['add_1[0][0]']                  \n",
      "                                8)                                                                \n",
      "                                                                                                  \n",
      " max_pooling2d_2 (MaxPooling2D)  (None, 64, 64, 128)  0          ['activation_5[0][0]']           \n",
      "                                                                                                  \n",
      " conv2d_9 (Conv2D)              (None, 64, 64, 256)  295168      ['max_pooling2d_2[0][0]']        \n",
      "                                                                                                  \n",
      " batch_normalization_7 (BatchNo  (None, 64, 64, 256)  1024       ['conv2d_9[0][0]']               \n",
      " rmalization)                                                                                     \n",
      "                                                                                                  \n",
      " activation_6 (Activation)      (None, 64, 64, 256)  0           ['batch_normalization_7[0][0]']  \n",
      "                                                                                                  \n",
      " conv2d_10 (Conv2D)             (None, 64, 64, 256)  590080      ['activation_6[0][0]']           \n",
      "                                                                                                  \n",
      " batch_normalization_8 (BatchNo  (None, 64, 64, 256)  1024       ['conv2d_10[0][0]']              \n",
      " rmalization)                                                                                     \n",
      "                                                                                                  \n",
      " activation_7 (Activation)      (None, 64, 64, 256)  0           ['batch_normalization_8[0][0]']  \n",
      "                                                                                                  \n",
      " conv2d_11 (Conv2D)             (None, 64, 64, 256)  590080      ['activation_7[0][0]']           \n",
      "                                                                                                  \n",
      " conv2d_12 (Conv2D)             (None, 64, 64, 256)  295168      ['max_pooling2d_2[0][0]']        \n",
      "                                                                                                  \n",
      " batch_normalization_9 (BatchNo  (None, 64, 64, 256)  1024       ['conv2d_11[0][0]']              \n",
      " rmalization)                                                                                     \n",
      "                                                                                                  \n",
      " batch_normalization_10 (BatchN  (None, 64, 64, 256)  1024       ['conv2d_12[0][0]']              \n",
      " ormalization)                                                                                    \n",
      "                                                                                                  \n",
      " add_2 (Add)                    (None, 64, 64, 256)  0           ['batch_normalization_9[0][0]',  \n",
      "                                                                  'batch_normalization_10[0][0]'] \n",
      "                                                                                                  \n",
      " activation_8 (Activation)      (None, 64, 64, 256)  0           ['add_2[0][0]']                  \n",
      "                                                                                                  \n",
      " conv2d_13 (Conv2D)             (None, 64, 64, 256)  590080      ['activation_8[0][0]']           \n",
      "                                                                                                  \n",
      " batch_normalization_11 (BatchN  (None, 64, 64, 256)  1024       ['conv2d_13[0][0]']              \n",
      " ormalization)                                                                                    \n",
      "                                                                                                  \n",
      " activation_9 (Activation)      (None, 64, 64, 256)  0           ['batch_normalization_11[0][0]'] \n",
      "                                                                                                  \n",
      " conv2d_14 (Conv2D)             (None, 64, 64, 256)  590080      ['activation_9[0][0]']           \n",
      "                                                                                                  \n",
      " batch_normalization_12 (BatchN  (None, 64, 64, 256)  1024       ['conv2d_14[0][0]']              \n",
      " ormalization)                                                                                    \n",
      "                                                                                                  \n",
      " activation_10 (Activation)     (None, 64, 64, 256)  0           ['batch_normalization_12[0][0]'] \n",
      "                                                                                                  \n",
      " conv2d_15 (Conv2D)             (None, 64, 64, 256)  590080      ['activation_10[0][0]']          \n",
      "                                                                                                  \n",
      " batch_normalization_13 (BatchN  (None, 64, 64, 256)  1024       ['conv2d_15[0][0]']              \n",
      " ormalization)                                                                                    \n",
      "                                                                                                  \n",
      " add_3 (Add)                    (None, 64, 64, 256)  0           ['batch_normalization_13[0][0]', \n",
      "                                                                  'activation_8[0][0]']           \n",
      "                                                                                                  \n",
      " activation_11 (Activation)     (None, 64, 64, 256)  0           ['add_3[0][0]']                  \n",
      "                                                                                                  \n",
      " max_pooling2d_3 (MaxPooling2D)  (None, 32, 32, 256)  0          ['activation_11[0][0]']          \n",
      "                                                                                                  \n",
      " conv2d_16 (Conv2D)             (None, 32, 32, 512)  1180160     ['max_pooling2d_3[0][0]']        \n",
      "                                                                                                  \n",
      " batch_normalization_14 (BatchN  (None, 32, 32, 512)  2048       ['conv2d_16[0][0]']              \n",
      " ormalization)                                                                                    \n",
      "                                                                                                  \n",
      " activation_12 (Activation)     (None, 32, 32, 512)  0           ['batch_normalization_14[0][0]'] \n",
      "                                                                                                  \n",
      " conv2d_17 (Conv2D)             (None, 32, 32, 512)  2359808     ['activation_12[0][0]']          \n",
      "                                                                                                  \n",
      " batch_normalization_15 (BatchN  (None, 32, 32, 512)  2048       ['conv2d_17[0][0]']              \n",
      " ormalization)                                                                                    \n",
      "                                                                                                  \n",
      " activation_13 (Activation)     (None, 32, 32, 512)  0           ['batch_normalization_15[0][0]'] \n",
      "                                                                                                  \n",
      " conv2d_18 (Conv2D)             (None, 32, 32, 512)  2359808     ['activation_13[0][0]']          \n",
      "                                                                                                  \n",
      " conv2d_19 (Conv2D)             (None, 32, 32, 512)  1180160     ['max_pooling2d_3[0][0]']        \n",
      "                                                                                                  \n",
      " batch_normalization_16 (BatchN  (None, 32, 32, 512)  2048       ['conv2d_18[0][0]']              \n",
      " ormalization)                                                                                    \n",
      "                                                                                                  \n",
      " batch_normalization_17 (BatchN  (None, 32, 32, 512)  2048       ['conv2d_19[0][0]']              \n",
      " ormalization)                                                                                    \n",
      "                                                                                                  \n",
      " add_4 (Add)                    (None, 32, 32, 512)  0           ['batch_normalization_16[0][0]', \n",
      "                                                                  'batch_normalization_17[0][0]'] \n",
      "                                                                                                  \n",
      " activation_14 (Activation)     (None, 32, 32, 512)  0           ['add_4[0][0]']                  \n",
      "                                                                                                  \n",
      " conv2d_20 (Conv2D)             (None, 32, 32, 512)  2359808     ['activation_14[0][0]']          \n",
      "                                                                                                  \n",
      " batch_normalization_18 (BatchN  (None, 32, 32, 512)  2048       ['conv2d_20[0][0]']              \n",
      " ormalization)                                                                                    \n",
      "                                                                                                  \n",
      " activation_15 (Activation)     (None, 32, 32, 512)  0           ['batch_normalization_18[0][0]'] \n",
      "                                                                                                  \n",
      " conv2d_21 (Conv2D)             (None, 32, 32, 512)  2359808     ['activation_15[0][0]']          \n",
      "                                                                                                  \n",
      " batch_normalization_19 (BatchN  (None, 32, 32, 512)  2048       ['conv2d_21[0][0]']              \n",
      " ormalization)                                                                                    \n",
      "                                                                                                  \n",
      " activation_16 (Activation)     (None, 32, 32, 512)  0           ['batch_normalization_19[0][0]'] \n",
      "                                                                                                  \n",
      " conv2d_22 (Conv2D)             (None, 32, 32, 512)  2359808     ['activation_16[0][0]']          \n",
      "                                                                                                  \n",
      " batch_normalization_20 (BatchN  (None, 32, 32, 512)  2048       ['conv2d_22[0][0]']              \n",
      " ormalization)                                                                                    \n",
      "                                                                                                  \n",
      " add_5 (Add)                    (None, 32, 32, 512)  0           ['batch_normalization_20[0][0]', \n",
      "                                                                  'activation_14[0][0]']          \n",
      "                                                                                                  \n",
      " activation_17 (Activation)     (None, 32, 32, 512)  0           ['add_5[0][0]']                  \n",
      "                                                                                                  \n",
      " max_pooling2d_4 (MaxPooling2D)  (None, 16, 16, 512)  0          ['activation_17[0][0]']          \n",
      "                                                                                                  \n",
      " conv2d_23 (Conv2D)             (None, 16, 16, 1024  4719616     ['max_pooling2d_4[0][0]']        \n",
      "                                )                                                                 \n",
      "                                                                                                  \n",
      " batch_normalization_21 (BatchN  (None, 16, 16, 1024  4096       ['conv2d_23[0][0]']              \n",
      " ormalization)                  )                                                                 \n",
      "                                                                                                  \n",
      " activation_18 (Activation)     (None, 16, 16, 1024  0           ['batch_normalization_21[0][0]'] \n",
      "                                )                                                                 \n",
      "                                                                                                  \n",
      " conv2d_24 (Conv2D)             (None, 16, 16, 1024  9438208     ['activation_18[0][0]']          \n",
      "                                )                                                                 \n",
      "                                                                                                  \n",
      " batch_normalization_22 (BatchN  (None, 16, 16, 1024  4096       ['conv2d_24[0][0]']              \n",
      " ormalization)                  )                                                                 \n",
      "                                                                                                  \n",
      " activation_19 (Activation)     (None, 16, 16, 1024  0           ['batch_normalization_22[0][0]'] \n",
      "                                )                                                                 \n",
      "                                                                                                  \n",
      " conv2d_25 (Conv2D)             (None, 16, 16, 1024  9438208     ['activation_19[0][0]']          \n",
      "                                )                                                                 \n",
      "                                                                                                  \n",
      " conv2d_26 (Conv2D)             (None, 16, 16, 1024  4719616     ['max_pooling2d_4[0][0]']        \n",
      "                                )                                                                 \n",
      "                                                                                                  \n",
      " batch_normalization_23 (BatchN  (None, 16, 16, 1024  4096       ['conv2d_25[0][0]']              \n",
      " ormalization)                  )                                                                 \n",
      "                                                                                                  \n",
      " batch_normalization_24 (BatchN  (None, 16, 16, 1024  4096       ['conv2d_26[0][0]']              \n",
      " ormalization)                  )                                                                 \n",
      "                                                                                                  \n",
      " add_6 (Add)                    (None, 16, 16, 1024  0           ['batch_normalization_23[0][0]', \n",
      "                                )                                 'batch_normalization_24[0][0]'] \n",
      "                                                                                                  \n",
      " activation_20 (Activation)     (None, 16, 16, 1024  0           ['add_6[0][0]']                  \n",
      "                                )                                                                 \n",
      "                                                                                                  \n",
      " conv2d_27 (Conv2D)             (None, 16, 16, 1024  9438208     ['activation_20[0][0]']          \n",
      "                                )                                                                 \n",
      "                                                                                                  \n",
      " batch_normalization_25 (BatchN  (None, 16, 16, 1024  4096       ['conv2d_27[0][0]']              \n",
      " ormalization)                  )                                                                 \n",
      "                                                                                                  \n",
      " activation_21 (Activation)     (None, 16, 16, 1024  0           ['batch_normalization_25[0][0]'] \n",
      "                                )                                                                 \n",
      "                                                                                                  \n",
      " conv2d_28 (Conv2D)             (None, 16, 16, 1024  9438208     ['activation_21[0][0]']          \n",
      "                                )                                                                 \n",
      "                                                                                                  \n",
      " batch_normalization_26 (BatchN  (None, 16, 16, 1024  4096       ['conv2d_28[0][0]']              \n",
      " ormalization)                  )                                                                 \n",
      "                                                                                                  \n",
      " activation_22 (Activation)     (None, 16, 16, 1024  0           ['batch_normalization_26[0][0]'] \n",
      "                                )                                                                 \n",
      "                                                                                                  \n",
      " conv2d_29 (Conv2D)             (None, 16, 16, 1024  9438208     ['activation_22[0][0]']          \n",
      "                                )                                                                 \n",
      "                                                                                                  \n",
      " batch_normalization_27 (BatchN  (None, 16, 16, 1024  4096       ['conv2d_29[0][0]']              \n",
      " ormalization)                  )                                                                 \n",
      "                                                                                                  \n",
      " add_7 (Add)                    (None, 16, 16, 1024  0           ['batch_normalization_27[0][0]', \n",
      "                                )                                 'activation_20[0][0]']          \n",
      "                                                                                                  \n",
      " activation_23 (Activation)     (None, 16, 16, 1024  0           ['add_7[0][0]']                  \n",
      "                                )                                                                 \n",
      "                                                                                                  \n",
      " max_pooling2d_5 (MaxPooling2D)  (None, 8, 8, 1024)  0           ['activation_23[0][0]']          \n",
      "                                                                                                  \n",
      " global_average_pooling2d (Glob  (None, 1024)        0           ['max_pooling2d_5[0][0]']        \n",
      " alAveragePooling2D)                                                                              \n",
      "                                                                                                  \n",
      " dense_2 (Dense)                (None, 10)           10250       ['global_average_pooling2d[0][0]'\n",
      "                                                                 ]                                \n",
      "                                                                                                  \n",
      "==================================================================================================\n",
      "Total params: 75,139,466\n",
      "Trainable params: 75,112,586\n",
      "Non-trainable params: 26,880\n",
      "__________________________________________________________________________________________________\n"
     ]
    }
   ],
   "source": [
    "model.summary()"
   ]
  },
  {
   "cell_type": "code",
   "execution_count": 32,
   "metadata": {
    "executionInfo": {
     "elapsed": 3,
     "status": "ok",
     "timestamp": 1671346685750,
     "user": {
      "displayName": "Jun Bro",
      "userId": "07560668274037058289"
     },
     "user_tz": -540
    },
    "id": "G8VEepvXRl00"
   },
   "outputs": [],
   "source": [
    "# hyper parameter settings\n",
    "EPOCH = 10\n",
    "BATCH_SIZE = 32\n",
    "earlystopping = tf.keras.callbacks.EarlyStopping(monitor='val_accuracy',\n",
    "                              patience=10, \n",
    "                             )\n",
    "\n",
    "reduceLR = tf.keras.callbacks.ReduceLROnPlateau(\n",
    "    monitor='val_accuracy',\n",
    "    factor=0.5,\n",
    "    patience=4,\n",
    ")\n",
    "\n",
    "# checkpoint \n",
    "model_path = \"/content/drive/My Drive/snack_resnet.model\"\n",
    "checkpoint = ModelCheckpoint(filepath=model_path, monitor='val_loss', verbose=1, save_best_only = True)"
   ]
  },
  {
   "cell_type": "code",
   "execution_count": 33,
   "metadata": {
    "colab": {
     "base_uri": "https://localhost:8080/"
    },
    "executionInfo": {
     "elapsed": 1128573,
     "status": "ok",
     "timestamp": 1671347819598,
     "user": {
      "displayName": "Jun Bro",
      "userId": "07560668274037058289"
     },
     "user_tz": -540
    },
    "id": "m-j4jO3bRrfZ",
    "outputId": "2d39ed85-2767-4eed-aafc-2aae6790f7e4"
   },
   "outputs": [
    {
     "name": "stdout",
     "output_type": "stream",
     "text": [
      "Epoch 1/10\n",
      "521/521 [==============================] - ETA: 0s - loss: 0.9916 - accuracy: 0.6818\n",
      "Epoch 1: val_loss improved from inf to 7.56066, saving model to /content/drive/My Drive/snack_resnet.model\n"
     ]
    },
    {
     "name": "stderr",
     "output_type": "stream",
     "text": [
      "WARNING:absl:Found untraced functions such as _jit_compiled_convolution_op, _jit_compiled_convolution_op, _jit_compiled_convolution_op, _jit_compiled_convolution_op, _jit_compiled_convolution_op while saving (showing 5 of 28). These functions will not be directly callable after loading.\n"
     ]
    },
    {
     "name": "stdout",
     "output_type": "stream",
     "text": [
      "\b\b\b\b\b\b\b\b\b\b\b\b\b\b\b\b\b\b\b\b\b\b\b\b\b\b\b\b\b\b\b\b\b\b\b\b\b\b\b\b\b\b\b\b\b\b\b\b\b\b\b\b\b\b\b\b\b\b\b\b\b\b\b\b\b\b\b\b\b\b\b\b\b\b\b\b\b\b\b\b\b\b\b\b\r",
      "521/521 [==============================] - 132s 244ms/step - loss: 0.9916 - accuracy: 0.6818 - val_loss: 7.5607 - val_accuracy: 0.0000e+00 - lr: 0.0010\n",
      "Epoch 2/10\n",
      "521/521 [==============================] - ETA: 0s - loss: 0.5289 - accuracy: 0.8324\n",
      "Epoch 2: val_loss did not improve from 7.56066\n",
      "521/521 [==============================] - 111s 212ms/step - loss: 0.5289 - accuracy: 0.8324 - val_loss: 28.0814 - val_accuracy: 0.0000e+00 - lr: 0.0010\n",
      "Epoch 3/10\n",
      "521/521 [==============================] - ETA: 0s - loss: 0.3665 - accuracy: 0.8864\n",
      "Epoch 3: val_loss did not improve from 7.56066\n",
      "521/521 [==============================] - 111s 212ms/step - loss: 0.3665 - accuracy: 0.8864 - val_loss: 12.7824 - val_accuracy: 0.0000e+00 - lr: 0.0010\n",
      "Epoch 4/10\n",
      "521/521 [==============================] - ETA: 0s - loss: 0.2849 - accuracy: 0.9117\n",
      "Epoch 4: val_loss did not improve from 7.56066\n",
      "521/521 [==============================] - 111s 212ms/step - loss: 0.2849 - accuracy: 0.9117 - val_loss: 12.3469 - val_accuracy: 0.0378 - lr: 0.0010\n",
      "Epoch 5/10\n",
      "521/521 [==============================] - ETA: 0s - loss: 0.2153 - accuracy: 0.9341\n",
      "Epoch 5: val_loss did not improve from 7.56066\n",
      "521/521 [==============================] - 111s 212ms/step - loss: 0.2153 - accuracy: 0.9341 - val_loss: 11.8778 - val_accuracy: 0.0340 - lr: 0.0010\n",
      "Epoch 6/10\n",
      "521/521 [==============================] - ETA: 0s - loss: 0.1718 - accuracy: 0.9464\n",
      "Epoch 6: val_loss did not improve from 7.56066\n",
      "521/521 [==============================] - 111s 212ms/step - loss: 0.1718 - accuracy: 0.9464 - val_loss: 9.6453 - val_accuracy: 0.0086 - lr: 0.0010\n",
      "Epoch 7/10\n",
      "521/521 [==============================] - ETA: 0s - loss: 0.1413 - accuracy: 0.9571\n",
      "Epoch 7: val_loss did not improve from 7.56066\n",
      "521/521 [==============================] - 111s 212ms/step - loss: 0.1413 - accuracy: 0.9571 - val_loss: 13.8450 - val_accuracy: 0.0081 - lr: 0.0010\n",
      "Epoch 8/10\n",
      "521/521 [==============================] - ETA: 0s - loss: 0.1190 - accuracy: 0.9640\n",
      "Epoch 8: val_loss did not improve from 7.56066\n",
      "521/521 [==============================] - 111s 212ms/step - loss: 0.1190 - accuracy: 0.9640 - val_loss: 11.0611 - val_accuracy: 0.0000e+00 - lr: 0.0010\n",
      "Epoch 9/10\n",
      "521/521 [==============================] - ETA: 0s - loss: 0.0576 - accuracy: 0.9827\n",
      "Epoch 9: val_loss did not improve from 7.56066\n",
      "521/521 [==============================] - 111s 212ms/step - loss: 0.0576 - accuracy: 0.9827 - val_loss: 11.3587 - val_accuracy: 0.0400 - lr: 5.0000e-04\n",
      "Epoch 10/10\n",
      "521/521 [==============================] - ETA: 0s - loss: 0.0413 - accuracy: 0.9872\n",
      "Epoch 10: val_loss did not improve from 7.56066\n",
      "521/521 [==============================] - 111s 212ms/step - loss: 0.0413 - accuracy: 0.9872 - val_loss: 9.8949 - val_accuracy: 0.0923 - lr: 5.0000e-04\n"
     ]
    }
   ],
   "source": [
    "# train\n",
    "data = model.fit(X_train, \n",
    "                 y_train, \n",
    "                 validation_split = 0.1, \n",
    "                 epochs=EPOCH, \n",
    "                 batch_size=BATCH_SIZE, \n",
    "                 callbacks=[reduceLR, earlystopping, checkpoint])"
   ]
  },
  {
   "cell_type": "code",
   "execution_count": 34,
   "metadata": {
    "colab": {
     "base_uri": "https://localhost:8080/"
    },
    "executionInfo": {
     "elapsed": 6298,
     "status": "ok",
     "timestamp": 1671347844598,
     "user": {
      "displayName": "Jun Bro",
      "userId": "07560668274037058289"
     },
     "user_tz": -540
    },
    "id": "371NWksYRzg3",
    "outputId": "df34a0a6-309e-4d4e-c755-af50d553b31b"
   },
   "outputs": [
    {
     "name": "stdout",
     "output_type": "stream",
     "text": [
      "['loss', 'accuracy']\n",
      "[2.763730525970459, 0.7241762280464172]\n"
     ]
    }
   ],
   "source": [
    "# evaluation\n",
    "score = model.evaluate(X_test, y_test, verbose=0)\n",
    "print(model.metrics_names)\n",
    "print(score)"
   ]
  },
  {
   "cell_type": "markdown",
   "metadata": {},
   "source": [
    "# 5. Resnet training history"
   ]
  },
  {
   "cell_type": "code",
   "execution_count": null,
   "metadata": {
    "id": "133h0bnwSF0l"
   },
   "outputs": [],
   "source": [
    "acc = data.history['accuracy']\n",
    "loss = data.history['loss']\n",
    "val_acc = data.history['val_accuracy']\n",
    "val_loss = data.history['val_loss']\n",
    "epoch_range = range(1, len(acc) + 1)"
   ]
  },
  {
   "cell_type": "code",
   "execution_count": null,
   "metadata": {
    "colab": {
     "base_uri": "https://localhost:8080/",
     "height": 331
    },
    "executionInfo": {
     "elapsed": 9,
     "status": "ok",
     "timestamp": 1670754155428,
     "user": {
      "displayName": "Jun Bro",
      "userId": "07560668274037058289"
     },
     "user_tz": -540
    },
    "id": "i2CKnCMnSIlV",
    "outputId": "fdc7c844-5429-4f13-d2b9-55650b8c83e6"
   },
   "outputs": [
    {
     "data": {
      "text/plain": [
       "<Figure size 432x288 with 0 Axes>"
      ]
     },
     "execution_count": 25,
     "metadata": {},
     "output_type": "execute_result"
    },
    {
     "data": {
      "image/png": "[encoded data removed]",
      "text/plain": [
       "<Figure size 432x288 with 1 Axes>"
      ]
     },
     "metadata": {
      "needs_background": "light"
     },
     "output_type": "display_data"
    },
    {
     "data": {
      "text/plain": [
       "<Figure size 432x288 with 0 Axes>"
      ]
     },
     "metadata": {},
     "output_type": "display_data"
    }
   ],
   "source": [
    "# loss graph visualization\n",
    "plt.plot(epoch_range, loss, 'b', label='training loss')\n",
    "plt.plot(epoch_range, val_loss, 'r', label='validation loss')\n",
    "plt.title('Model loss')\n",
    "plt.xlabel('Epochs')\n",
    "plt.ylabel('Loss')\n",
    "plt.legend()\n",
    "plt.figure()"
   ]
  },
  {
   "cell_type": "code",
   "execution_count": null,
   "metadata": {
    "colab": {
     "base_uri": "https://localhost:8080/",
     "height": 331
    },
    "executionInfo": {
     "elapsed": 468,
     "status": "ok",
     "timestamp": 1670754155890,
     "user": {
      "displayName": "Jun Bro",
      "userId": "07560668274037058289"
     },
     "user_tz": -540
    },
    "id": "2ZZUYUErSK8k",
    "outputId": "dbb05144-8677-4e98-b77e-835ae75e32e4"
   },
   "outputs": [
    {
     "data": {
      "text/plain": [
       "<Figure size 432x288 with 0 Axes>"
      ]
     },
     "execution_count": 26,
     "metadata": {},
     "output_type": "execute_result"
    },
    {
     "data": {
      "image/png": "[encoded data removed]",
      "text/plain": [
       "<Figure size 432x288 with 1 Axes>"
      ]
     },
     "metadata": {
      "needs_background": "light"
     },
     "output_type": "display_data"
    },
    {
     "data": {
      "text/plain": [
       "<Figure size 432x288 with 0 Axes>"
      ]
     },
     "metadata": {},
     "output_type": "display_data"
    }
   ],
   "source": [
    "# accuracy graph visualization\n",
    "plt.plot(epoch_range, acc, 'b', label='training accuracy')\n",
    "plt.plot(epoch_range, val_acc, 'r', label='validation accuracy')\n",
    "plt.title('Model accuracy')\n",
    "plt.xlabel('Epochs')\n",
    "plt.ylabel('Accuracy')\n",
    "plt.legend()\n",
    "plt.figure()"
   ]
  }
 ],
 "metadata": {
  "accelerator": "GPU",
  "colab": {
   "authorship_tag": "ABX9TyPmigKZdLRilfAchcs0JHYB",
   "machine_shape": "hm",
   "provenance": []
  },
  "gpuClass": "premium",
  "kernelspec": {
   "display_name": "Python 3 (ipykernel)",
   "language": "python",
   "name": "python3"
  },
  "language_info": {
   "codemirror_mode": {
    "name": "ipython",
    "version": 3
   },
   "file_extension": ".py",
   "mimetype": "text/x-python",
   "name": "python",
   "nbconvert_exporter": "python",
   "pygments_lexer": "ipython3",
   "version": "3.9.12"
  }
 },
 "nbformat": 4,
 "nbformat_minor": 1
}
