{
 "cells": [
  {
   "cell_type": "markdown",
   "id": "30e5537b",
   "metadata": {},
   "source": [
    "# 1. Import modules"
   ]
  },
  {
   "cell_type": "code",
   "execution_count": null,
   "id": "6086b284",
   "metadata": {},
   "outputs": [],
   "source": [
    "from selenium import webdriver\n",
    "from selenium.webdriver.common.keys import Keys\n",
    "from selenium.webdriver.common.by import By\n",
    "import time\n",
    "import urllib.request\n",
    "import os"
   ]
  },
  {
   "cell_type": "markdown",
   "id": "c209301e",
   "metadata": {},
   "source": [
    "# 2. Function definition"
   ]
  },
  {
   "cell_type": "code",
   "execution_count": null,
   "id": "ab0aac1f",
   "metadata": {},
   "outputs": [],
   "source": [
    "# Function to create a directory. Attempts to create the specified 'directory' if it does not exist\n",
    "# Prints an error message if the directory creation fails\n",
    "def createDirectory(directory):\n",
    "    try:\n",
    "        if not os.path.exists(directory):\n",
    "            os.makedirs(directory)\n",
    "    except OSError:\n",
    "        print(\"Error: Failed to create the directory.\")\n",
    "\n",
    "# Function to crawl and download images from Google Images based on the provided 'name' (search query)\n",
    "def crawlingImg(name):\n",
    "    # Set up a Chrome web driver for automation\n",
    "    driver = webdriver.Chrome('./chromedriver')\n",
    "    driver.get(\"https://www.google.co.kr/imghp?hl=ko&tab=wi&authuser=0&ogbl\")\n",
    "    \n",
    "    # Locate the search input field, enter the provided 'name', and perform the search\n",
    "    elem = driver.find_element(By.NAME, \"q\")\n",
    "    elem.send_keys(name)\n",
    "    elem.send_keys(Keys.RETURN)\n",
    "    # Set a pause time for scrolling and initialize variables for dynamic scrolling\n",
    "    SCROLL_PAUSE_TIME = 1\n",
    "    last_height = driver.execute_script(\"return document.body.scrollHeight\") \n",
    "    \n",
    "    # Scroll down dynamically to load additional images until no more can be loaded\n",
    "    while True:\n",
    "        driver.execute_script(\"window.scrollTo(0, document.body.scrollHeight);\")\n",
    "        time.sleep(SCROLL_PAUSE_TIME)\n",
    "        new_height = driver.execute_script(\"return document.body.scrollHeight\")\n",
    "        if new_height == last_height:\n",
    "            try:\n",
    "                driver.find_element(By.CSS_SELECTOR, \".mye4qd\").click()\n",
    "            except:\n",
    "                break\n",
    "        last_height = new_height\n",
    "        \n",
    "    # Extract image elements from the page\n",
    "    imgs = driver.find_elements(By.CSS_SELECTOR, \".rg_i.Q4LuWd\")\n",
    "    \n",
    "    # Create a directory to store the images, named after the search query\n",
    "    dir = \"./google3\" + \"/\" + name\n",
    "    createDirectory(dir)\n",
    "    \n",
    "    # Download images and save them to the specified directory\n",
    "    count = 1\n",
    "    for i, img in enumerate(imgs):\n",
    "        try:\n",
    "            img.click()\n",
    "            time.sleep(1)\n",
    "            # Extract the image URL and save the image to the directory\n",
    "            imgUrl = driver.find_element(By.XPATH,\n",
    "                '//*[@id=\"islrg\"]/div[1]/div['+str(i)+']/a[1]/div[1]/img').get_attribute(\n",
    "                \"src\")\n",
    "            path = \"./\" + name + \"/\"\n",
    "            urllib.request.urlretrieve(imgUrl, path + name + str(count) + \".jpg\")\n",
    "            count = count + 1\n",
    "            # Limit the total number of downloaded images to 3000\n",
    "            if count >= 3000:\n",
    "                break\n",
    "        except:\n",
    "            pass\n",
    "    # Close the web driver after image downloading is complete\n",
    "    driver.close()"
   ]
  },
  {
   "cell_type": "markdown",
   "id": "f97f4edb",
   "metadata": {},
   "source": [
    "# 3. Crawling"
   ]
  },
  {
   "cell_type": "code",
   "execution_count": null,
   "id": "ac12bb5f",
   "metadata": {},
   "outputs": [],
   "source": [
    "# query words list\n",
    "snacks = ['꼬깔콘', '꼬북칩', '맛동산', '새우깡', '에이스', '오징어 땅콩', '카스타드', '포카칩', '프링글스', '홈런볼']\n",
    "\n",
    "for snack in snacks:\n",
    "    crawling_img(snack)"
   ]
  }
 ],
 "metadata": {
  "kernelspec": {
   "display_name": "Python 3 (ipykernel)",
   "language": "python",
   "name": "python3"
  },
  "language_info": {
   "codemirror_mode": {
    "name": "ipython",
    "version": 3
   },
   "file_extension": ".py",
   "mimetype": "text/x-python",
   "name": "python",
   "nbconvert_exporter": "python",
   "pygments_lexer": "ipython3",
   "version": "3.9.12"
  }
 },
 "nbformat": 4,
 "nbformat_minor": 5
}
